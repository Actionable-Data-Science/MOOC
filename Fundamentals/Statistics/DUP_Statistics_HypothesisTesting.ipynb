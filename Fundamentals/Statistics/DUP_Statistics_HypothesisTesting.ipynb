{
 "cells": [
  {
   "cell_type": "markdown",
   "id": "ac3b7332-c32a-4429-9b09-049bf82351be",
   "metadata": {},
   "source": [
    "### Statistics\n",
    "     \n",
    "<ol>\n",
    "  Analysis of Variance \n",
    "</ol>"
   ]
  },
  {
   "cell_type": "markdown",
   "id": "dab3ec5f",
   "metadata": {},
   "source": [
    "Basic imports of libraries: Numpy and Pandas <br>\n",
    "Functions to call in questions"
   ]
  },
  {
   "cell_type": "code",
   "execution_count": 1,
   "id": "926ffbf2",
   "metadata": {
    "tags": []
   },
   "outputs": [],
   "source": [
    "import pandas as pd\n",
    "import seaborn as sns\n",
    "import numpy as np\n",
    "import random\n",
    "import numpy as np\n",
    "import scipy.stats as st\n",
    "import math\n",
    "import scipy.stats\n",
    "from scipy import stats\n",
    "\n",
    "def TestHypothesis(sample_size,sample_mean,sample_stdev,pop_mean,pop_stdev,twosided,conflevel):\n",
    "    # find test statistic \n",
    "    ztest = False\n",
    "    test_stat = 0\n",
    "    p_val = 0\n",
    "    conclusion = ''\n",
    "    \n",
    "    if pop_stdev is None:\n",
    "        # use t-score with sample stdev \n",
    "        test_stat = (sample_mean-pop_mean)/(sample_stdev/np.sqrt(sample_size))\n",
    "    else:\n",
    "        if sample_size > 30:\n",
    "        # use z-score\n",
    "             test_stat = (sample_mean-pop_mean)/(pop_stdev/np.sqrt(sample_size))\n",
    "             ztest = True \n",
    "        else:\n",
    "        # use t-score with pop_stdev\n",
    "             test_stat = (sample_mean-pop_mean)/(pop_stdev/np.sqrt(sample_size))\n",
    "            \n",
    "    print('test statistic :',test_stat,', z test:',ztest)\n",
    " \n",
    "    if ztest: \n",
    "        p_val = st.norm.cdf(test_stat) \n",
    "    else:\n",
    "        p_val = st.t.sf(np.abs(test_stat), sample_size-1)\n",
    "       \n",
    "    \n",
    "    if twosided: \n",
    "        p_val = 2*p_val\n",
    "    else:\n",
    "        if (sample_mean > pop_mean):\n",
    "            p_val = 1 - p_val \n",
    "      \n",
    "        \n",
    "    if p_val < conflevel:\n",
    "        conclusion = 'Reject H0!'\n",
    "    else:\n",
    "        conclusion = 'Fail to reject H0!'\n",
    "        \n",
    "    return p_val,conclusion\n"
   ]
  },
  {
   "cell_type": "markdown",
   "id": "aba8dcc0",
   "metadata": {},
   "source": [
    "----------\n",
    "#### Hypothesis Testing\n",
    "\n",
    "####  Two-tailed case:  Bulb manufacturer\n",
    "\n",
    "\n",
    "A light bulb manufacturer claims that its' energy saving light bulbs last on average 60 days.\n",
    "\n",
    "\n",
    " H0 : The mean lifetime of a light bulb is 60 days. (µ = 60)\n",
    " \n",
    " H1 : The mean lifetime of a light bulb is not 60 days. (µ ≠ 60) \n",
    " \n",
    "\n",
    "\n",
    "A sampling of size 49 is collected from the production output with a mean of 56.5 days. Using confidence level 0.05, can we statically reject the claim of the manufacturer? Assume that the standard deviation of bulb lifetime is 9 days. \n",
    " "
   ]
  },
  {
   "cell_type": "code",
   "execution_count": 60,
   "id": "1cce6f60",
   "metadata": {
    "tags": []
   },
   "outputs": [
    {
     "name": "stdout",
     "output_type": "stream",
     "text": [
      "test statistic : -2.722222222222222 , z test: True\n",
      "P-value:  0.006484452196655412  Test result:  Reject H0!\n"
     ]
    }
   ],
   "source": [
    "testreturn = TestHypothesis(49,56.5,None,60,9,True,0.05) # light bulb manufacturer, slide 36 \n",
    "print('P-value: ',testreturn[0],' Test result: ',testreturn[1])\n"
   ]
  },
  {
   "cell_type": "markdown",
   "id": "3781407a",
   "metadata": {},
   "source": [
    "**Q10:** \n",
    "#### One-tailed case:  Decision for a new supplier\n",
    "\n",
    "\n",
    "The deviation in target length of the parts from the new supplier must be smaller than the target value of 1.5 mm. Otherwise, we will not change the current supplier. \n",
    "\n",
    "***Interest:*** Finding statistical evidence that the parts of the new supplier have significantly less deviation in order to change the supplier.   \n",
    "\n",
    "A sampling of size 45 is collected from the products of the new supplier with a deviation of  1.2 mm. Using confidence level 0.01, can we statically reject the null hypothesis? Assume that the standard deviation of the products of the new supplier is 0.4 mm. Can we reject the null hypothesis in the favour of the new supplier?\n",
    "\n",
    "                                   \n",
    "H0: Mean of deviation of parts from new supplier is equal to 1.5 mm (µ = 1.5) \n",
    "\n",
    "\n",
    "H1: Mean of deviation of parts from new supplier is smaller than 1.5 mm (µ < 1.5)  "
   ]
  },
  {
   "cell_type": "code",
   "execution_count": 59,
   "id": "989b534f",
   "metadata": {
    "tags": []
   },
   "outputs": [
    {
     "name": "stdout",
     "output_type": "stream",
     "text": [
      "test statistic : -5.031152949374528 , z test: True\n",
      "P-value:  2.4376949983627335e-07  Test result:  Reject H0!\n"
     ]
    }
   ],
   "source": [
    "testreturn = TestHypothesis(45,1.2,None,1.5,0.4,False,0.01) # Decision for a new supplier, slide 40\n",
    "print('P-value: ',testreturn[0],' Test result: ',testreturn[1])\n"
   ]
  },
  {
   "cell_type": "markdown",
   "id": "afa62f49",
   "metadata": {},
   "source": [
    "**Q11:** \n",
    "##### One-tailed case:  Contamination of food\n",
    "\n",
    "The Food and Drug Administration (FDA) sets acceptable levels of foreign substances that end up in our food and drink. The acceptable level for insect fragments in peanut butter is 3 fragments per 10 grams. \n",
    "\n",
    "***Interest:*** Finding problematic products in market; i.e. the food sampling that significantly contains fragments more than allowed in the regulation.\n",
    "\n",
    "A sampling of size 50 is collected from the products of a food producer with a mean of 3.6 fragments per 10 grams. Using confidence level 0.05, can we statically reject the null hypothesis? Assume that the standard deviation of all products is √3. Can we reject the null hypothesis to penalize the food producer?\n",
    "\n",
    "                                   \n",
    "H0: The food contains 3 fragments of foreign substances per 10 gr. (µ <= 3)  <br>\n",
    "H1: The food contains more than 3 fragments of foreign substances per 10 gr. (µ > 3)  "
   ]
  },
  {
   "cell_type": "code",
   "execution_count": 58,
   "id": "b4487401",
   "metadata": {
    "tags": []
   },
   "outputs": [
    {
     "name": "stdout",
     "output_type": "stream",
     "text": [
      "test statistic : 2.4494897427831788 , z test: True\n",
      "P-value:  0.00715293921771476  Test result:  Reject H0!\n"
     ]
    }
   ],
   "source": [
    "testreturn = TestHypothesis(50,3.6,None,3,np.sqrt(3),False,0.05) # Contamination of food, slide 43\n",
    "print('P-value: ',testreturn[0],' Test result: ',testreturn[1])\n"
   ]
  },
  {
   "cell_type": "markdown",
   "id": "d68935d0",
   "metadata": {},
   "source": [
    "**Q12:** \n",
    "\n",
    "##### One-tailed small-sample case:  Contamination of food\n",
    "\n",
    "The Food and Drug Administration (FDA) sets acceptable levels of foreign substances that end up in our food and drink. The acceptable level for insect fragments in peanut butter is 3 fragments per 10 grams. \n",
    "\n",
    "***Interest:*** Finding problematic products in market; i.e. the food sampling that significantly contains fragments more than allowed in the regulation.\n",
    "\n",
    "A sampling of size 20 is collected from the products of a food producer with a mean of 3.6 fragments per 10 grams. Using confidence level 0.05, can we statically reject the null hypothesis? Assume that the standard deviation of all products is √3. Can we reject the null hypothesis to penalize the food producer?\n",
    "\n",
    "\n",
    "                                   \n",
    "H0: The food contains 3 fragments of foreign substances per 10 gr. (µ <= 3) \n",
    "\n",
    "\n",
    "H1: The food contains more than 3 fragments of foreign substances per 10 gr. (µ > 3)  "
   ]
  },
  {
   "cell_type": "code",
   "execution_count": 61,
   "id": "36be2a34",
   "metadata": {
    "tags": []
   },
   "outputs": [
    {
     "name": "stdout",
     "output_type": "stream",
     "text": [
      "test statistic : 1.5491933384829673 , z test: False\n",
      "P-value:  0.06891581818714575  Test result:  Fail to reject H0!\n"
     ]
    }
   ],
   "source": [
    "testreturn= TestHypothesis(20,3.6,None,3,np.sqrt(3),False,0.05)   # Contamination of food-2, slide 48\n",
    "print('P-value: ',testreturn[0],' Test result: ',testreturn[1])\n"
   ]
  },
  {
   "cell_type": "markdown",
   "id": "798eae75",
   "metadata": {},
   "source": [
    "**Q13:** Examine and call TestHypothesis function for the hypothesis examples in Lecture DUP1 slides 36, 40, 43, and 48. "
   ]
  },
  {
   "cell_type": "markdown",
   "id": "714e2f5c",
   "metadata": {},
   "source": [
    "----------\n",
    "### Analysis of Varianve (ANOVA)\n",
    "\n",
    "Plant growth data set\n",
    "   Each instance is a plant and has two features: Weight and group."
   ]
  },
  {
   "cell_type": "code",
   "execution_count": 10,
   "id": "8312fa60",
   "metadata": {
    "scrolled": false,
    "tags": []
   },
   "outputs": [
    {
     "name": "stdout",
     "output_type": "stream",
     "text": [
      "----> Size of the data set: 30\n",
      "----> Columns and data types:\n",
      "Unnamed: 0      Int64\n",
      "weight        Float64\n",
      "group          string\n",
      "dtype: object\n",
      "----> Unique values of columns:\n",
      "Unnamed: 0 :  30\n",
      "weight :  29\n",
      "group :  3\n"
     ]
    },
    {
     "data": {
      "text/html": [
       "<div>\n",
       "<style scoped>\n",
       "    .dataframe tbody tr th:only-of-type {\n",
       "        vertical-align: middle;\n",
       "    }\n",
       "\n",
       "    .dataframe tbody tr th {\n",
       "        vertical-align: top;\n",
       "    }\n",
       "\n",
       "    .dataframe thead th {\n",
       "        text-align: right;\n",
       "    }\n",
       "</style>\n",
       "<table border=\"1\" class=\"dataframe\">\n",
       "  <thead>\n",
       "    <tr style=\"text-align: right;\">\n",
       "      <th></th>\n",
       "      <th>Unnamed: 0</th>\n",
       "      <th>weight</th>\n",
       "      <th>group</th>\n",
       "    </tr>\n",
       "  </thead>\n",
       "  <tbody>\n",
       "    <tr>\n",
       "      <th>0</th>\n",
       "      <td>1</td>\n",
       "      <td>4.17</td>\n",
       "      <td>ctrl</td>\n",
       "    </tr>\n",
       "    <tr>\n",
       "      <th>1</th>\n",
       "      <td>2</td>\n",
       "      <td>5.58</td>\n",
       "      <td>ctrl</td>\n",
       "    </tr>\n",
       "    <tr>\n",
       "      <th>2</th>\n",
       "      <td>3</td>\n",
       "      <td>5.18</td>\n",
       "      <td>ctrl</td>\n",
       "    </tr>\n",
       "    <tr>\n",
       "      <th>3</th>\n",
       "      <td>4</td>\n",
       "      <td>6.11</td>\n",
       "      <td>ctrl</td>\n",
       "    </tr>\n",
       "    <tr>\n",
       "      <th>4</th>\n",
       "      <td>5</td>\n",
       "      <td>4.5</td>\n",
       "      <td>ctrl</td>\n",
       "    </tr>\n",
       "  </tbody>\n",
       "</table>\n",
       "</div>"
      ],
      "text/plain": [
       "   Unnamed: 0  weight group\n",
       "0           1    4.17  ctrl\n",
       "1           2    5.58  ctrl\n",
       "2           3    5.18  ctrl\n",
       "3           4    6.11  ctrl\n",
       "4           5     4.5  ctrl"
      ]
     },
     "execution_count": 10,
     "metadata": {},
     "output_type": "execute_result"
    },
    {
     "data": {
      "image/png": "[encoded data removed]",
      "text/plain": [
       "<Figure size 864x576 with 1 Axes>"
      ]
     },
     "metadata": {
      "needs_background": "light"
     },
     "output_type": "display_data"
    }
   ],
   "source": [
    "import pandas as pd\n",
    "from scipy import stats\n",
    "\n",
    "data = pd.read_csv(\"https://vincentarelbundock.github.io/Rdatasets/csv/datasets/PlantGrowth.csv\")\n",
    "data.boxplot(\"weight\", by=\"group\", figsize=(12, 8))\n",
    "data = data.convert_dtypes()\n",
    "print(\"----> Size of the data set:\",len(data))\n",
    "\n",
    "print(\"----> Columns and data types:\")     \n",
    "print(data.dtypes)\n",
    "\n",
    "print(\"----> Unique values of columns:\")\n",
    "for col in data.columns:\n",
    "        print(col,\": \",len(data[col].unique()))\n",
    "        \n",
    "data.head(5)    \n"
   ]
  },
  {
   "cell_type": "markdown",
   "id": "4ad924ba",
   "metadata": {},
   "source": [
    "In PlantGrowth dataset, define the groups of plants with respect to feature \"group\" of values ctrl, trt1, and trt2. Conduct an ANOVA to test if the plant weights of three groups come from the same population."
   ]
  },
  {
   "cell_type": "code",
   "execution_count": 9,
   "id": "6377abac",
   "metadata": {
    "scrolled": false,
    "tags": []
   },
   "outputs": [
    {
     "name": "stdout",
     "output_type": "stream",
     "text": [
      "ANOVA: F-value 4.846087862380118 , P-value 0.015909958325623124\n"
     ]
    }
   ],
   "source": [
    "import pandas as pd\n",
    "\n",
    "data = pd.read_csv(\"https://vincentarelbundock.github.io/Rdatasets/csv/datasets/PlantGrowth.csv\")\n",
    "fncreturn = ANOVA(data,\"group\")\n",
    "\n",
    "print(\"ANOVA: F-value\",fncreturn[0],\", P-value\",fncreturn[1])\n"
   ]
  },
  {
   "cell_type": "markdown",
   "id": "bebe73de",
   "metadata": {},
   "source": [
    "----------\n",
    "### Correlation and Causality\n",
    "\n",
    "Correlation is a statistical measure (expressed as a number) that describes the size and direction of a relationship between two or more variables. \n",
    "\n",
    "Correlation Coefficient: A single number, denoted by ‘r’, that describes the degree of relationship between two variables. Its value ranges from +1.0 to –1.0.\n",
    "\n",
    "\n",
    "\n",
    "If r < 0, the variables move in opposite directions, that is when one increases the other decreases or vice versa.\n",
    "\n",
    "\n",
    "If r > 0, the variables both variables move in tandem, that is when one increases the other decreases or vice versa.\n",
    "\n",
    "Simple linear regression analysis is used to find the correlation coefficient. \n"
   ]
  },
  {
   "cell_type": "code",
   "execution_count": 11,
   "id": "a9413670",
   "metadata": {},
   "outputs": [
    {
     "data": {
      "text/html": [
       "<div>\n",
       "<style scoped>\n",
       "    .dataframe tbody tr th:only-of-type {\n",
       "        vertical-align: middle;\n",
       "    }\n",
       "\n",
       "    .dataframe tbody tr th {\n",
       "        vertical-align: top;\n",
       "    }\n",
       "\n",
       "    .dataframe thead th {\n",
       "        text-align: right;\n",
       "    }\n",
       "</style>\n",
       "<table border=\"1\" class=\"dataframe\">\n",
       "  <thead>\n",
       "    <tr style=\"text-align: right;\">\n",
       "      <th></th>\n",
       "      <th>Country name</th>\n",
       "      <th>year</th>\n",
       "      <th>Life Ladder</th>\n",
       "      <th>Log GDP per capita</th>\n",
       "      <th>Social support</th>\n",
       "      <th>Healthy life expectancy at birth</th>\n",
       "      <th>Freedom to make life choices</th>\n",
       "      <th>Generosity</th>\n",
       "      <th>Perceptions of corruption</th>\n",
       "      <th>Positive affect</th>\n",
       "      <th>Negative affect</th>\n",
       "      <th>Confidence in national government</th>\n",
       "    </tr>\n",
       "  </thead>\n",
       "  <tbody>\n",
       "    <tr>\n",
       "      <th>0</th>\n",
       "      <td>Afghanistan</td>\n",
       "      <td>2008</td>\n",
       "      <td>3.723590</td>\n",
       "      <td>7.302574</td>\n",
       "      <td>0.450662</td>\n",
       "      <td>50.500000</td>\n",
       "      <td>0.718114</td>\n",
       "      <td>0.173169</td>\n",
       "      <td>0.881686</td>\n",
       "      <td>0.414297</td>\n",
       "      <td>0.258195</td>\n",
       "      <td>0.612072</td>\n",
       "    </tr>\n",
       "    <tr>\n",
       "      <th>1</th>\n",
       "      <td>Afghanistan</td>\n",
       "      <td>2009</td>\n",
       "      <td>4.401778</td>\n",
       "      <td>7.472446</td>\n",
       "      <td>0.552308</td>\n",
       "      <td>50.799999</td>\n",
       "      <td>0.678896</td>\n",
       "      <td>0.195469</td>\n",
       "      <td>0.850035</td>\n",
       "      <td>0.481421</td>\n",
       "      <td>0.237092</td>\n",
       "      <td>0.611545</td>\n",
       "    </tr>\n",
       "    <tr>\n",
       "      <th>2</th>\n",
       "      <td>Afghanistan</td>\n",
       "      <td>2010</td>\n",
       "      <td>4.758381</td>\n",
       "      <td>7.579183</td>\n",
       "      <td>0.539075</td>\n",
       "      <td>51.099998</td>\n",
       "      <td>0.600127</td>\n",
       "      <td>0.125859</td>\n",
       "      <td>0.706766</td>\n",
       "      <td>0.516907</td>\n",
       "      <td>0.275324</td>\n",
       "      <td>0.299357</td>\n",
       "    </tr>\n",
       "    <tr>\n",
       "      <th>3</th>\n",
       "      <td>Afghanistan</td>\n",
       "      <td>2011</td>\n",
       "      <td>3.831719</td>\n",
       "      <td>7.552006</td>\n",
       "      <td>0.521104</td>\n",
       "      <td>51.400002</td>\n",
       "      <td>0.495901</td>\n",
       "      <td>0.167723</td>\n",
       "      <td>0.731109</td>\n",
       "      <td>0.479835</td>\n",
       "      <td>0.267175</td>\n",
       "      <td>0.307386</td>\n",
       "    </tr>\n",
       "    <tr>\n",
       "      <th>4</th>\n",
       "      <td>Afghanistan</td>\n",
       "      <td>2012</td>\n",
       "      <td>3.782938</td>\n",
       "      <td>7.637953</td>\n",
       "      <td>0.520637</td>\n",
       "      <td>51.700001</td>\n",
       "      <td>0.530935</td>\n",
       "      <td>0.241247</td>\n",
       "      <td>0.775620</td>\n",
       "      <td>0.613513</td>\n",
       "      <td>0.267919</td>\n",
       "      <td>0.435440</td>\n",
       "    </tr>\n",
       "    <tr>\n",
       "      <th>...</th>\n",
       "      <td>...</td>\n",
       "      <td>...</td>\n",
       "      <td>...</td>\n",
       "      <td>...</td>\n",
       "      <td>...</td>\n",
       "      <td>...</td>\n",
       "      <td>...</td>\n",
       "      <td>...</td>\n",
       "      <td>...</td>\n",
       "      <td>...</td>\n",
       "      <td>...</td>\n",
       "      <td>...</td>\n",
       "    </tr>\n",
       "    <tr>\n",
       "      <th>195</th>\n",
       "      <td>Bolivia</td>\n",
       "      <td>2014</td>\n",
       "      <td>5.864799</td>\n",
       "      <td>8.952947</td>\n",
       "      <td>0.821345</td>\n",
       "      <td>62.500000</td>\n",
       "      <td>0.881059</td>\n",
       "      <td>0.017006</td>\n",
       "      <td>0.831854</td>\n",
       "      <td>0.769011</td>\n",
       "      <td>0.398219</td>\n",
       "      <td>0.468561</td>\n",
       "    </tr>\n",
       "    <tr>\n",
       "      <th>196</th>\n",
       "      <td>Bolivia</td>\n",
       "      <td>2015</td>\n",
       "      <td>5.834329</td>\n",
       "      <td>8.985247</td>\n",
       "      <td>0.828706</td>\n",
       "      <td>62.700001</td>\n",
       "      <td>0.883625</td>\n",
       "      <td>-0.030384</td>\n",
       "      <td>0.862374</td>\n",
       "      <td>0.748659</td>\n",
       "      <td>0.392903</td>\n",
       "      <td>0.487209</td>\n",
       "    </tr>\n",
       "    <tr>\n",
       "      <th>197</th>\n",
       "      <td>Bolivia</td>\n",
       "      <td>2016</td>\n",
       "      <td>5.769723</td>\n",
       "      <td>9.012199</td>\n",
       "      <td>0.795959</td>\n",
       "      <td>62.849998</td>\n",
       "      <td>0.881749</td>\n",
       "      <td>-0.047644</td>\n",
       "      <td>0.852593</td>\n",
       "      <td>0.735729</td>\n",
       "      <td>0.376412</td>\n",
       "      <td>0.401742</td>\n",
       "    </tr>\n",
       "    <tr>\n",
       "      <th>198</th>\n",
       "      <td>Bolivia</td>\n",
       "      <td>2017</td>\n",
       "      <td>5.650553</td>\n",
       "      <td>9.038804</td>\n",
       "      <td>0.778662</td>\n",
       "      <td>63.000000</td>\n",
       "      <td>0.883905</td>\n",
       "      <td>-0.121301</td>\n",
       "      <td>0.819262</td>\n",
       "      <td>0.655217</td>\n",
       "      <td>0.433944</td>\n",
       "      <td>0.427633</td>\n",
       "    </tr>\n",
       "    <tr>\n",
       "      <th>199</th>\n",
       "      <td>Bolivia</td>\n",
       "      <td>2018</td>\n",
       "      <td>5.915734</td>\n",
       "      <td>9.065954</td>\n",
       "      <td>0.827159</td>\n",
       "      <td>63.150002</td>\n",
       "      <td>0.863247</td>\n",
       "      <td>-0.093822</td>\n",
       "      <td>0.786045</td>\n",
       "      <td>0.705478</td>\n",
       "      <td>0.387469</td>\n",
       "      <td>0.399588</td>\n",
       "    </tr>\n",
       "  </tbody>\n",
       "</table>\n",
       "<p>200 rows × 12 columns</p>\n",
       "</div>"
      ],
      "text/plain": [
       "    Country name  year  Life Ladder  Log GDP per capita  Social support  \\\n",
       "0    Afghanistan  2008     3.723590            7.302574        0.450662   \n",
       "1    Afghanistan  2009     4.401778            7.472446        0.552308   \n",
       "2    Afghanistan  2010     4.758381            7.579183        0.539075   \n",
       "3    Afghanistan  2011     3.831719            7.552006        0.521104   \n",
       "4    Afghanistan  2012     3.782938            7.637953        0.520637   \n",
       "..           ...   ...          ...                 ...             ...   \n",
       "195      Bolivia  2014     5.864799            8.952947        0.821345   \n",
       "196      Bolivia  2015     5.834329            8.985247        0.828706   \n",
       "197      Bolivia  2016     5.769723            9.012199        0.795959   \n",
       "198      Bolivia  2017     5.650553            9.038804        0.778662   \n",
       "199      Bolivia  2018     5.915734            9.065954        0.827159   \n",
       "\n",
       "     Healthy life expectancy at birth  Freedom to make life choices  \\\n",
       "0                           50.500000                      0.718114   \n",
       "1                           50.799999                      0.678896   \n",
       "2                           51.099998                      0.600127   \n",
       "3                           51.400002                      0.495901   \n",
       "4                           51.700001                      0.530935   \n",
       "..                                ...                           ...   \n",
       "195                         62.500000                      0.881059   \n",
       "196                         62.700001                      0.883625   \n",
       "197                         62.849998                      0.881749   \n",
       "198                         63.000000                      0.883905   \n",
       "199                         63.150002                      0.863247   \n",
       "\n",
       "     Generosity  Perceptions of corruption  Positive affect  Negative affect  \\\n",
       "0      0.173169                   0.881686         0.414297         0.258195   \n",
       "1      0.195469                   0.850035         0.481421         0.237092   \n",
       "2      0.125859                   0.706766         0.516907         0.275324   \n",
       "3      0.167723                   0.731109         0.479835         0.267175   \n",
       "4      0.241247                   0.775620         0.613513         0.267919   \n",
       "..          ...                        ...              ...              ...   \n",
       "195    0.017006                   0.831854         0.769011         0.398219   \n",
       "196   -0.030384                   0.862374         0.748659         0.392903   \n",
       "197   -0.047644                   0.852593         0.735729         0.376412   \n",
       "198   -0.121301                   0.819262         0.655217         0.433944   \n",
       "199   -0.093822                   0.786045         0.705478         0.387469   \n",
       "\n",
       "     Confidence in national government  \n",
       "0                             0.612072  \n",
       "1                             0.611545  \n",
       "2                             0.299357  \n",
       "3                             0.307386  \n",
       "4                             0.435440  \n",
       "..                                 ...  \n",
       "195                           0.468561  \n",
       "196                           0.487209  \n",
       "197                           0.401742  \n",
       "198                           0.427633  \n",
       "199                           0.399588  \n",
       "\n",
       "[200 rows x 12 columns]"
      ]
     },
     "execution_count": 11,
     "metadata": {},
     "output_type": "execute_result"
    }
   ],
   "source": [
    "import pandas as pd\n",
    "import numpy as np\n",
    "import matplotlib.pyplot as plt\n",
    "import seaborn as sns\n",
    "  \n",
    "df = pd.read_excel(\"https://happiness-report.s3.amazonaws.com/2022/DataForTable2.1.xls\")\n",
    "df.head(200)"
   ]
  },
  {
   "cell_type": "markdown",
   "id": "8d379597",
   "metadata": {},
   "source": [
    "World Happiness Data"
   ]
  },
  {
   "cell_type": "code",
   "execution_count": 12,
   "id": "7e8e9284",
   "metadata": {},
   "outputs": [
    {
     "name": "stdout",
     "output_type": "stream",
     "text": [
      "Regression slope (ols) 0.8357887779794378\n",
      "Regression slope (stats) 0.8357887779794387\n",
      "Perason Correlation:  (0.835788777979438, 9.426511928339598e-38)\n"
     ]
    }
   ],
   "source": [
    "\n",
    "import statsmodels.formula.api as smf\n",
    "import pandas as pd\n",
    "\n",
    "def standardize(df,col):\n",
    "    df[\"std \"+col] = (df[col]- df[col].mean())/df[col].std() \n",
    "df = pd.read_excel(\"https://happiness-report.s3.amazonaws.com/2022/DataForTable2.1.xls\")\n",
    "\n",
    "colmnlist = [\"Log GDP per capita\",\"Social support\",\"Healthy life expectancy at birth\",\"Freedom to make life choices\",\"Perceptions of corruption\"]\n",
    "df_grouped = df[df[\"year\"] >= 2017].groupby([\"Country name\"])[colmnlist].apply(lambda x: x.mean())\n",
    "\n",
    "for col in colmnlist:\n",
    "    df_grouped[col] = pd.to_numeric(df_grouped[col], errors='coerce')\n",
    "df_grouped = df_grouped.dropna()\n",
    "\n",
    "standardize(df_grouped,colmnlist[0]); standardize(df_grouped,colmnlist[2])\n",
    "\n",
    "fit = smf.ols('Q(\"std Log GDP per capita\") ~ Q(\"std Healthy life expectancy at birth\")', data=df_grouped).fit() # Fit and summarize OLS model\n",
    "print(\"Regression slope (ols)\",fit.params['Q(\"std Healthy life expectancy at birth\")'])\n",
    "slope, intercept, r_value, p_value, std_err = stats.linregress(df_grouped[\"std Log GDP per capita\"],df_grouped[\"std Healthy life expectancy at birth\"])\n",
    "print(\"Regression slope (stats)\",slope)\n",
    "corr = stats.pearsonr(df_grouped[\"std Log GDP per capita\"], df_grouped[\"std Healthy life expectancy at birth\"] )\n",
    "print(\"Perason Correlation: \",corr)"
   ]
  },
  {
   "cell_type": "markdown",
   "id": "86ae1469",
   "metadata": {},
   "source": [
    "----------\n",
    "###  Causality\n",
    "\n",
    "Causality means that a change in one variable triggers a change in the other; a cause-and-effect relationship. Besides the correlation, there is also a causal link between them."
   ]
  },
  {
   "cell_type": "code",
   "execution_count": 13,
   "id": "a4ccd30d",
   "metadata": {},
   "outputs": [
    {
     "data": {
      "text/html": [
       "<div>\n",
       "<style scoped>\n",
       "    .dataframe tbody tr th:only-of-type {\n",
       "        vertical-align: middle;\n",
       "    }\n",
       "\n",
       "    .dataframe tbody tr th {\n",
       "        vertical-align: top;\n",
       "    }\n",
       "\n",
       "    .dataframe thead th {\n",
       "        text-align: right;\n",
       "    }\n",
       "</style>\n",
       "<table border=\"1\" class=\"dataframe\">\n",
       "  <thead>\n",
       "    <tr style=\"text-align: right;\">\n",
       "      <th></th>\n",
       "      <th>Log GDP per capita</th>\n",
       "      <th>Social support</th>\n",
       "      <th>Healthy life expectancy at birth</th>\n",
       "      <th>Freedom to make life choices</th>\n",
       "      <th>Perceptions of corruption</th>\n",
       "    </tr>\n",
       "    <tr>\n",
       "      <th>Country name</th>\n",
       "      <th></th>\n",
       "      <th></th>\n",
       "      <th></th>\n",
       "      <th></th>\n",
       "      <th></th>\n",
       "    </tr>\n",
       "  </thead>\n",
       "  <tbody>\n",
       "    <tr>\n",
       "      <th>Afghanistan</th>\n",
       "      <td>7.626750</td>\n",
       "      <td>0.468136</td>\n",
       "      <td>53.81875</td>\n",
       "      <td>0.397127</td>\n",
       "      <td>0.938037</td>\n",
       "    </tr>\n",
       "    <tr>\n",
       "      <th>Albania</th>\n",
       "      <td>9.504680</td>\n",
       "      <td>0.683931</td>\n",
       "      <td>69.10000</td>\n",
       "      <td>0.786460</td>\n",
       "      <td>0.895407</td>\n",
       "    </tr>\n",
       "    <tr>\n",
       "      <th>Algeria</th>\n",
       "      <td>9.333753</td>\n",
       "      <td>0.823405</td>\n",
       "      <td>66.40000</td>\n",
       "      <td>0.507502</td>\n",
       "      <td>0.727050</td>\n",
       "    </tr>\n",
       "    <tr>\n",
       "      <th>Argentina</th>\n",
       "      <td>9.989240</td>\n",
       "      <td>0.896478</td>\n",
       "      <td>67.10000</td>\n",
       "      <td>0.827557</td>\n",
       "      <td>0.831761</td>\n",
       "    </tr>\n",
       "    <tr>\n",
       "      <th>Armenia</th>\n",
       "      <td>9.468753</td>\n",
       "      <td>0.764005</td>\n",
       "      <td>67.03125</td>\n",
       "      <td>0.765209</td>\n",
       "      <td>0.707579</td>\n",
       "    </tr>\n",
       "  </tbody>\n",
       "</table>\n",
       "</div>"
      ],
      "text/plain": [
       "              Log GDP per capita  Social support  \\\n",
       "Country name                                       \n",
       "Afghanistan             7.626750        0.468136   \n",
       "Albania                 9.504680        0.683931   \n",
       "Algeria                 9.333753        0.823405   \n",
       "Argentina               9.989240        0.896478   \n",
       "Armenia                 9.468753        0.764005   \n",
       "\n",
       "              Healthy life expectancy at birth  Freedom to make life choices  \\\n",
       "Country name                                                                   \n",
       "Afghanistan                           53.81875                      0.397127   \n",
       "Albania                               69.10000                      0.786460   \n",
       "Algeria                               66.40000                      0.507502   \n",
       "Argentina                             67.10000                      0.827557   \n",
       "Armenia                               67.03125                      0.765209   \n",
       "\n",
       "              Perceptions of corruption  \n",
       "Country name                             \n",
       "Afghanistan                    0.938037  \n",
       "Albania                        0.895407  \n",
       "Algeria                        0.727050  \n",
       "Argentina                      0.831761  \n",
       "Armenia                        0.707579  "
      ]
     },
     "execution_count": 13,
     "metadata": {},
     "output_type": "execute_result"
    }
   ],
   "source": [
    "colmnlist = [\"Log GDP per capita\",\"Social support\",\"Healthy life expectancy at birth\",\"Freedom to make life choices\",\"Perceptions of corruption\"]\n",
    "\n",
    "df_grouped[colmnlist].head()\n",
    "\n",
    "#df_grouped[colmnlist].corr()\n"
   ]
  },
  {
   "cell_type": "markdown",
   "id": "5c427785",
   "metadata": {},
   "source": [
    "----------\n",
    "Causality using Python causality library \n",
    "\n",
    "Install: pip install causality\n",
    "\n",
    "https://pypi.org/project/causality/"
   ]
  },
  {
   "cell_type": "code",
   "execution_count": 18,
   "id": "0fc48277",
   "metadata": {},
   "outputs": [
    {
     "data": {
      "image/png": "[encoded data removed]",
      "text/plain": [
       "<Figure size 432x288 with 1 Axes>"
      ]
     },
     "metadata": {},
     "output_type": "display_data"
    }
   ],
   "source": [
    "import numpy\n",
    "import pandas as pd\n",
    "import matplotlib.pyplot as plt\n",
    "from causality.inference.search import IC\n",
    "from causality.inference.independence_tests import RobustRegressionTest\n",
    "import networkx as nx\n",
    "colmnlist2 = [\"Log GDP per capita\",\"Social support\",\"Healthy life expectancy at birth\"]\n",
    "df_grouped = df_grouped[colmnlist2] \n",
    "\n",
    "for col in colmnlist2:\n",
    "    df_grouped[col] = pd.to_numeric(df_grouped[col], errors='coerce')\n",
    "\n",
    "df_grouped = df_grouped.dropna()\n",
    "\n",
    "variable_types = {\"Log GDP per capita\":'c',\"Social support\":'c',\"Healthy life expectancy at birth\":'c'}\n",
    "\n",
    "ic_algorithm = IC(RobustRegressionTest) # run the search\n",
    "graph = ic_algorithm.search(df_grouped, variable_types)\n",
    "graph.edges(data=True)\n",
    "\n",
    "pos = nx.spring_layout(graph)\n",
    "\n",
    "nx.draw_networkx_nodes(graph, pos, cmap=plt.get_cmap('jet'), node_size = 500)\n",
    "nx.draw_networkx_labels(graph, pos)\n",
    "nx.draw_networkx_edges(graph, pos, edge_color='b', arrows=True,arrowsize=20)\n",
    "plt.show()\n"
   ]
  }
 ],
 "metadata": {
  "kernelspec": {
   "display_name": "Python 3 (ipykernel)",
   "language": "python",
   "name": "python3"
  },
  "language_info": {
   "codemirror_mode": {
    "name": "ipython",
    "version": 3
   },
   "file_extension": ".py",
   "mimetype": "text/x-python",
   "name": "python",
   "nbconvert_exporter": "python",
   "pygments_lexer": "ipython3",
   "version": "3.9.7"
  }
 },
 "nbformat": 4,
 "nbformat_minor": 5
}
