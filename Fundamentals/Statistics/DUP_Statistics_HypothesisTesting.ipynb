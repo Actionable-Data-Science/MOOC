{
 "cells": [
  {
   "cell_type": "markdown",
   "id": "ac3b7332-c32a-4429-9b09-049bf82351be",
   "metadata": {},
   "source": [
    "### Statistics\n",
    "     \n",
    "<ol>\n",
    "  Analysis of Variance \n",
    "</ol>"
   ]
  },
  {
   "cell_type": "markdown",
   "id": "dab3ec5f",
   "metadata": {},
   "source": [
    "Basic imports of libraries: Numpy and Pandas <br>\n",
    "Functions to call in questions"
   ]
  },
  {
   "cell_type": "code",
   "execution_count": 99,
   "id": "926ffbf2",
   "metadata": {
    "tags": []
   },
   "outputs": [],
   "source": [
    "import pandas as pd\n",
    "import seaborn as sns\n",
    "import numpy as np\n",
    "import random\n",
    "import numpy as np\n",
    "import scipy.stats as st\n",
    "import math\n",
    "import scipy.stats\n",
    "from scipy import stats\n",
    "import matplotlib.pyplot as plt\n",
    "from scipy.stats import norm\n",
    "\n",
    "\n",
    "def TestHypothesis(sample_size,sample_mean,sample_stdev,pop_mean,pop_stdev,twosided,conflevel):\n",
    "    # find test statistic \n",
    "    ztest = False\n",
    "    test_stat = 0\n",
    "    p_val = 0\n",
    "    conclusion = ''\n",
    "    \n",
    "    if pop_stdev is None:\n",
    "        # use t-score with sample stdev \n",
    "        test_stat = (sample_mean-pop_mean)/(sample_stdev/np.sqrt(sample_size))\n",
    "    else:\n",
    "        if sample_size > 30:\n",
    "        # use z-score\n",
    "             test_stat = (sample_mean-pop_mean)/(pop_stdev/np.sqrt(sample_size))\n",
    "             ztest = True \n",
    "        else:\n",
    "        # use t-score with pop_stdev\n",
    "             test_stat = (sample_mean-pop_mean)/(pop_stdev/np.sqrt(sample_size))\n",
    "            \n",
    "    print('test statistic :',test_stat,', z test:',ztest)\n",
    " \n",
    "    if ztest: \n",
    "        p_val = st.norm.cdf(test_stat) \n",
    "    else:\n",
    "        p_val = st.t.sf(np.abs(test_stat), sample_size-1)\n",
    "       \n",
    "    \n",
    "    if twosided: \n",
    "        p_val = 2*p_val\n",
    "    else:\n",
    "        if (sample_mean > pop_mean):\n",
    "            p_val = 1 - p_val \n",
    "      \n",
    "        \n",
    "    if p_val < conflevel:\n",
    "        conclusion = 'Reject H0!'\n",
    "    else:\n",
    "        conclusion = 'Fail to reject H0!'\n",
    "    \n",
    "    axs = np.arange(-5,5, 0.1) # x from -6 to 6 in steps of 0.1 \n",
    "    if abs(test_stat) > 3:\n",
    "        axs = np.arange(1.25*-abs(test_stat),1.25*abs(test_stat), 0.1) # x from -6 to 6 in steps of 0.1\n",
    "    ayz = 1 / np.sqrt(2 * np.pi) * np.exp(-axs ** 2 / 4.)\n",
    "\n",
    "    plt.plot(axs,ayz, 'k')\n",
    "    \n",
    "    \n",
    "   \n",
    "\n",
    "    if twosided:\n",
    "        plt.fill_between(axs,ayz,where = (axs<=-abs(test_stat)) | (axs>=abs(test_stat)))\n",
    "                         \n",
    "        boundval = norm.ppf(abs(0.5*conflevel),loc=0,scale=1)\n",
    "        poscut = norm.ppf(1-abs(0.5*conflevel),loc=0,scale=1)\n",
    "        plt.axvline(x=boundval,ymin=0, ymax=0.40, color='b', label='confidence level')\n",
    "        plt.axvline(x=poscut, color='b', label='confidence level')\n",
    "    else:\n",
    "        if (sample_mean > pop_mean):\n",
    "            poscut = norm.ppf(1-abs(conflevel),loc=0,scale=1)\n",
    "            plt.axvline(x=poscut,ymin=0, ymax=0.40, color='b', label='confidence level')\n",
    "            plt.fill_between(axs,ayz,where = (axs>=abs(test_stat)) )\n",
    "        else:\n",
    "            negcut = norm.ppf(abs(conflevel),loc=0,scale=1)\n",
    "            plt.axvline(x=negcut,ymin=0, ymax=0.40, color='b', label='confidence level')\n",
    "            plt.fill_between(axs,ayz,where = (axs<=-abs(test_stat)) )\n",
    "   \n",
    "    plt.show()\n",
    "        \n",
    "    return p_val,conclusion\n"
   ]
  },
  {
   "cell_type": "markdown",
   "id": "aba8dcc0",
   "metadata": {},
   "source": [
    "----------\n",
    "#### Hypothesis Testing\n",
    "\n",
    "####  Two-tailed case:  Bulb manufacturer\n",
    "\n",
    "\n",
    "A light bulb manufacturer claims that its' energy saving light bulbs last on average 60 days.\n",
    "\n",
    "\n",
    " H0 : The mean lifetime of a light bulb is 60 days. (µ = 60)\n",
    " \n",
    " H1 : The mean lifetime of a light bulb is not 60 days. (µ ≠ 60) \n",
    " \n",
    "\n",
    "\n",
    "A sampling of size 49 is collected from the production output with a mean of 56.5 days. Using confidence level 0.05, can we statically reject the claim of the manufacturer? Assume that the standard deviation of bulb lifetime is 9 days. \n",
    " "
   ]
  },
  {
   "cell_type": "code",
   "execution_count": 100,
   "id": "1cce6f60",
   "metadata": {
    "tags": []
   },
   "outputs": [
    {
     "name": "stdout",
     "output_type": "stream",
     "text": [
      "test statistic : -2.722222222222222 , z test: True\n"
     ]
    },
    {
     "data": {
      "image/png": "[encoded data removed]",
      "text/plain": [
       "<Figure size 432x288 with 1 Axes>"
      ]
     },
     "metadata": {
      "needs_background": "light"
     },
     "output_type": "display_data"
    },
    {
     "name": "stdout",
     "output_type": "stream",
     "text": [
      "P-value:  0.006484452196655412  Test result:  Reject H0!\n"
     ]
    }
   ],
   "source": [
    "testreturn = TestHypothesis(49,56.5,None,60,9,True,0.05) # light bulb manufacturer, slide 36 \n",
    "print('P-value: ',testreturn[0],' Test result: ',testreturn[1])"
   ]
  },
  {
   "cell_type": "markdown",
   "id": "3781407a",
   "metadata": {},
   "source": [
    "----------\n",
    "#### One-tailed case:  Decision for a new supplier\n",
    "\n",
    "\n",
    "The deviation in target length of the parts from the new supplier must be smaller than the target value of 1.5 mm. Otherwise, we will not change the current supplier. \n",
    "\n",
    "***Interest:*** Finding statistical evidence that the parts of the new supplier have significantly less deviation in order to change the supplier.   \n",
    "\n",
    "A sampling of size 45 is collected from the products of the new supplier with a deviation of  1.2 mm. Using confidence level 0.01, can we statically reject the null hypothesis? Assume that the standard deviation of the products of the new supplier is 0.4 mm. Can we reject the null hypothesis in the favour of the new supplier?\n",
    "\n",
    "                                   \n",
    "H0: Mean of deviation of parts from new supplier is equal to 1.5 mm (µ = 1.5) \n",
    "\n",
    "\n",
    "H1: Mean of deviation of parts from new supplier is smaller than 1.5 mm (µ < 1.5)  "
   ]
  },
  {
   "cell_type": "code",
   "execution_count": 96,
   "id": "989b534f",
   "metadata": {
    "tags": []
   },
   "outputs": [
    {
     "name": "stdout",
     "output_type": "stream",
     "text": [
      "test statistic : -5.031152949374528 , z test: True\n"
     ]
    },
    {
     "data": {
      "image/png": "[encoded data removed]",
      "text/plain": [
       "<Figure size 432x288 with 1 Axes>"
      ]
     },
     "metadata": {
      "needs_background": "light"
     },
     "output_type": "display_data"
    },
    {
     "name": "stdout",
     "output_type": "stream",
     "text": [
      "P-value:  2.4376949983627335e-07  Test result:  Reject H0!\n"
     ]
    }
   ],
   "source": [
    "testreturn = TestHypothesis(45,1.2,None,1.5,0.4,False,0.01) # Decision for a new supplier, slide 40\n",
    "print('P-value: ',testreturn[0],' Test result: ',testreturn[1])\n"
   ]
  },
  {
   "cell_type": "markdown",
   "id": "afa62f49",
   "metadata": {},
   "source": [
    "----------\n",
    "##### One-tailed case:  Contamination of food\n",
    "\n",
    "The Food and Drug Administration (FDA) sets acceptable levels of foreign substances that end up in our food and drink. The acceptable level for insect fragments in peanut butter is 3 fragments per 10 grams. \n",
    "\n",
    "***Interest:*** Finding problematic products in market; i.e. the food sampling that significantly contains fragments more than allowed in the regulation.\n",
    "\n",
    "A sampling of size 50 is collected from the products of a food producer with a mean of 3.6 fragments per 10 grams. Using confidence level 0.05, can we statically reject the null hypothesis? Assume that the standard deviation of all products is √3. Can we reject the null hypothesis to penalize the food producer?\n",
    "\n",
    "                                   \n",
    "H0: The food contains 3 fragments of foreign substances per 10 gr. (µ <= 3)  <br>\n",
    "H1: The food contains more than 3 fragments of foreign substances per 10 gr. (µ > 3)  "
   ]
  },
  {
   "cell_type": "code",
   "execution_count": 97,
   "id": "b4487401",
   "metadata": {
    "tags": []
   },
   "outputs": [
    {
     "name": "stdout",
     "output_type": "stream",
     "text": [
      "test statistic : 2.4494897427831788 , z test: True\n"
     ]
    },
    {
     "data": {
      "image/png": "[encoded data removed]",
      "text/plain": [
       "<Figure size 432x288 with 1 Axes>"
      ]
     },
     "metadata": {
      "needs_background": "light"
     },
     "output_type": "display_data"
    },
    {
     "name": "stdout",
     "output_type": "stream",
     "text": [
      "P-value:  0.00715293921771476  Test result:  Reject H0!\n"
     ]
    }
   ],
   "source": [
    "testreturn = TestHypothesis(50,3.6,None,3,np.sqrt(3),False,0.05) # Contamination of food, slide 43\n",
    "print('P-value: ',testreturn[0],' Test result: ',testreturn[1])"
   ]
  },
  {
   "cell_type": "markdown",
   "id": "d68935d0",
   "metadata": {},
   "source": [
    "##### One-tailed small-sample case:  Contamination of food\n",
    "\n",
    "The Food and Drug Administration (FDA) sets acceptable levels of foreign substances that end up in our food and drink. The acceptable level for insect fragments in peanut butter is 3 fragments per 10 grams. \n",
    "\n",
    "***Interest:*** Finding problematic products in market; i.e. the food sampling that significantly contains fragments more than allowed in the regulation.\n",
    "\n",
    "A sampling of size 20 is collected from the products of a food producer with a mean of 3.6 fragments per 10 grams. Using confidence level 0.05, can we statically reject the null hypothesis? Assume that the standard deviation of all products is √3. Can we reject the null hypothesis to penalize the food producer?\n",
    "\n",
    "\n",
    "                                   \n",
    "H0: The food contains 3 fragments of foreign substances per 10 gr. (µ <= 3) \n",
    "\n",
    "\n",
    "H1: The food contains more than 3 fragments of foreign substances per 10 gr. (µ > 3)  "
   ]
  },
  {
   "cell_type": "code",
   "execution_count": 98,
   "id": "36be2a34",
   "metadata": {
    "tags": []
   },
   "outputs": [
    {
     "name": "stdout",
     "output_type": "stream",
     "text": [
      "test statistic : 1.5491933384829673 , z test: False\n"
     ]
    },
    {
     "data": {
      "image/png": "[encoded data removed]",
      "text/plain": [
       "<Figure size 432x288 with 1 Axes>"
      ]
     },
     "metadata": {
      "needs_background": "light"
     },
     "output_type": "display_data"
    },
    {
     "name": "stdout",
     "output_type": "stream",
     "text": [
      "P-value:  0.9310841818128542  Test result:  Fail to reject H0!\n"
     ]
    }
   ],
   "source": [
    "testreturn= TestHypothesis(20,3.6,None,3,np.sqrt(3),False,0.05)   # Contamination of food-2, slide 48\n",
    "print('P-value: ',testreturn[0],' Test result: ',testreturn[1])\n"
   ]
  }
 ],
 "metadata": {
  "kernelspec": {
   "display_name": "Python 3 (ipykernel)",
   "language": "python",
   "name": "python3"
  },
  "language_info": {
   "codemirror_mode": {
    "name": "ipython",
    "version": 3
   },
   "file_extension": ".py",
   "mimetype": "text/x-python",
   "name": "python",
   "nbconvert_exporter": "python",
   "pygments_lexer": "ipython3",
   "version": "3.9.7"
  }
 },
 "nbformat": 4,
 "nbformat_minor": 5
}
